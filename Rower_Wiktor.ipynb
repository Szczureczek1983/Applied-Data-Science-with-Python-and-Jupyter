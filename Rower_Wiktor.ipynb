{
  "nbformat": 4,
  "nbformat_minor": 0,
  "metadata": {
    "colab": {
      "name": "Untitled2.ipynb",
      "provenance": [],
      "collapsed_sections": [],
      "include_colab_link": true
    },
    "kernelspec": {
      "name": "python3",
      "display_name": "Python 3"
    },
    "language_info": {
      "name": "python"
    }
  },
  "cells": [
    {
      "cell_type": "markdown",
      "metadata": {
        "id": "view-in-github",
        "colab_type": "text"
      },
      "source": [
        "<a href=\"https://colab.research.google.com/github/Szczureczek1983/Applied-Data-Science-with-Python-and-Jupyter/blob/master/Rower_Wiktor.ipynb\" target=\"_parent\"><img src=\"https://colab.research.google.com/assets/colab-badge.svg\" alt=\"Open In Colab\"/></a>"
      ]
    },
    {
      "cell_type": "code",
      "execution_count": null,
      "metadata": {
        "id": "m_UZF78S5-hh"
      },
      "outputs": [],
      "source": [
        "import pandas as pd\n",
        "import numpy as np\n",
        "import seaborn as sns \n",
        "import matplotlib.pyplot as plt\n",
        "# from sklearn.linear_model import LinearRegression\n",
        "# from sklearn.tree import DecisionTreeRegressor\n",
        "# from sklearn.model_selection import train_test_split, cross_val_score, KFold"
      ]
    },
    {
      "cell_type": "code",
      "source": [
        "data = pd.read_csv(\"/content/nyc-east-river-bicycle-counts.csv\").drop([\"Unnamed: 0\",\"Day\"],axis=1)"
      ],
      "metadata": {
        "id": "EW-7U06l7zxR"
      },
      "execution_count": null,
      "outputs": []
    },
    {
      "cell_type": "markdown",
      "source": [
        "### cleaning "
      ],
      "metadata": {
        "id": "dU16YWxOABuE"
      }
    },
    {
      "cell_type": "code",
      "source": [
        "data[\"Date\"] = pd.to_datetime(data[\"Date\"])\n",
        "data[\"Precipitation\"] = data[\"Precipitation\"].str.replace(\"(S)\",\"\",regex=False)\n",
        "data[\"Precipitation\"] = data[\"Precipitation\"].str.replace(\"T\",\"0\",regex=False) #zapytac o T\n",
        "data[\"Precipitation\"] = data[\"Precipitation\"].astype(float)\n",
        "\n",
        "for col in list(data.columns)[4:8]:\n",
        "  data[col] = data[col].astype(int)\n",
        "\n",
        "\n",
        "data = data.drop_duplicates()"
      ],
      "metadata": {
        "id": "8mX4TogJ9fl7"
      },
      "execution_count": null,
      "outputs": []
    },
    {
      "cell_type": "code",
      "source": [
        "data.info()"
      ],
      "metadata": {
        "colab": {
          "base_uri": "https://localhost:8080/"
        },
        "id": "SvJoC-oP8rjB",
        "outputId": "9c55e6f1-daa5-4303-d668-1bb1d3bc01bb"
      },
      "execution_count": null,
      "outputs": [
        {
          "output_type": "stream",
          "name": "stdout",
          "text": [
            "<class 'pandas.core.frame.DataFrame'>\n",
            "Int64Index: 30 entries, 0 to 29\n",
            "Data columns (total 9 columns):\n",
            " #   Column               Non-Null Count  Dtype         \n",
            "---  ------               --------------  -----         \n",
            " 0   Date                 30 non-null     datetime64[ns]\n",
            " 1   High Temp (°F)       30 non-null     float64       \n",
            " 2   Low Temp (°F)        30 non-null     float64       \n",
            " 3   Precipitation        30 non-null     float64       \n",
            " 4   Brooklyn Bridge      30 non-null     int64         \n",
            " 5   Manhattan Bridge     30 non-null     int64         \n",
            " 6   Williamsburg Bridge  30 non-null     int64         \n",
            " 7   Queensboro Bridge    30 non-null     int64         \n",
            " 8   Total                30 non-null     int64         \n",
            "dtypes: datetime64[ns](1), float64(3), int64(5)\n",
            "memory usage: 2.3 KB\n"
          ]
        }
      ]
    },
    {
      "cell_type": "markdown",
      "source": [
        "### nowe cechy"
      ],
      "metadata": {
        "id": "h4HoR75qCmi8"
      }
    },
    {
      "cell_type": "code",
      "source": [
        "data[\"avg_tem\"] = data[[\"High Temp (°F)\",\"Low Temp (°F)\"]].mean(axis=1)"
      ],
      "metadata": {
        "id": "GJ-6Yq-PAnzU",
        "colab": {
          "base_uri": "https://localhost:8080/"
        },
        "outputId": "2556025d-651a-4da7-f007-7ea7cc895b63"
      },
      "execution_count": null,
      "outputs": [
        {
          "output_type": "stream",
          "name": "stderr",
          "text": [
            "/usr/local/lib/python3.7/dist-packages/ipykernel_launcher.py:1: SettingWithCopyWarning: \n",
            "A value is trying to be set on a copy of a slice from a DataFrame.\n",
            "Try using .loc[row_indexer,col_indexer] = value instead\n",
            "\n",
            "See the caveats in the documentation: https://pandas.pydata.org/pandas-docs/stable/user_guide/indexing.html#returning-a-view-versus-a-copy\n",
            "  \"\"\"Entry point for launching an IPython kernel.\n"
          ]
        }
      ]
    },
    {
      "cell_type": "code",
      "source": [
        "data[\"Precipitation_cat\"] = np.where(data[\"Precipitation\"]>0,1,0)"
      ],
      "metadata": {
        "id": "WSNK04WbCjrq",
        "colab": {
          "base_uri": "https://localhost:8080/"
        },
        "outputId": "6c9e227f-07a3-4e8c-fcb6-3f21b3332c26"
      },
      "execution_count": null,
      "outputs": [
        {
          "output_type": "stream",
          "name": "stderr",
          "text": [
            "/usr/local/lib/python3.7/dist-packages/ipykernel_launcher.py:1: SettingWithCopyWarning: \n",
            "A value is trying to be set on a copy of a slice from a DataFrame.\n",
            "Try using .loc[row_indexer,col_indexer] = value instead\n",
            "\n",
            "See the caveats in the documentation: https://pandas.pydata.org/pandas-docs/stable/user_guide/indexing.html#returning-a-view-versus-a-copy\n",
            "  \"\"\"Entry point for launching an IPython kernel.\n"
          ]
        }
      ]
    },
    {
      "cell_type": "code",
      "source": [
        "for col in list(data.columns)[4:8]:\n",
        "\n",
        "  fig, ax= plt.subplots()\n",
        "\n",
        "  ax.bar(data[\"Date\"],\n",
        "        data[col])\n",
        "  \n",
        "  ax2=ax.twinx()\n",
        "  ax2.plot(data[\"Date\"],\n",
        "           data[\"avg_tem\"], \n",
        "           color='r')\n",
        "\n",
        "  ax.xaxis.set_tick_params(rotation=90)\n",
        "  ax.set_ylabel(\"Amount of bikers per day\")\n",
        "  ax2.set_ylabel(\"Avg temp\", color=\"r\")\n",
        "  ax.set_title(col)\n",
        "  ax2.tick_params('y', colors='r')\n",
        "  plt.show()"
      ],
      "metadata": {
        "colab": {
          "base_uri": "https://localhost:8080/",
          "height": 1000
        },
        "id": "cTJsJMTZDoiT",
        "outputId": "3dc053fc-9c86-45a0-cc16-05d289930fb2"
      },
      "execution_count": null,
      "outputs": [
        {
          "output_type": "display_data",
          "data": {
            "text/plain": [
              "<Figure size 432x288 with 2 Axes>"
            ],
            "image/png": "[encoded data removed]"
          },
          "metadata": {
            "needs_background": "light"
          }
        },
        {
          "output_type": "display_data",
          "data": {
            "text/plain": [
              "<Figure size 432x288 with 2 Axes>"
            ],
            "image/png": "[encoded data removed]"
          },
          "metadata": {
            "needs_background": "light"
          }
        },
        {
          "output_type": "display_data",
          "data": {
            "text/plain": [
              "<Figure size 432x288 with 2 Axes>"
            ],
            "image/png": "[encoded data removed]"
          },
          "metadata": {
            "needs_background": "light"
          }
        },
        {
          "output_type": "display_data",
          "data": {
            "text/plain": [
              "<Figure size 432x288 with 2 Axes>"
            ],
            "image/png": "[encoded data removed]"
          },
          "metadata": {
            "needs_background": "light"
          }
        }
      ]
    },
    {
      "cell_type": "code",
      "source": [
        "for col in list(data.columns)[4:8]:\n",
        "\n",
        "  sns.lmplot(data=data,\n",
        "            x=\"avg_tem\",\n",
        "            y =col)\n",
        "  \n",
        "  plt.title(col)\n",
        "  \n",
        "\n",
        "  plt.show()"
      ],
      "metadata": {
        "colab": {
          "base_uri": "https://localhost:8080/",
          "height": 1000
        },
        "id": "_NBoNdngIKOU",
        "outputId": "5f4ed4cd-bc8e-4f98-fe6d-9aba5016ad52"
      },
      "execution_count": null,
      "outputs": [
        {
          "output_type": "display_data",
          "data": {
            "text/plain": [
              "<Figure size 360x360 with 1 Axes>"
            ],
            "image/png": "[encoded data removed]"
          },
          "metadata": {
            "needs_background": "light"
          }
        },
        {
          "output_type": "display_data",
          "data": {
            "text/plain": [
              "<Figure size 360x360 with 1 Axes>"
            ],
            "image/png": "[encoded data removed]"
          },
          "metadata": {
            "needs_background": "light"
          }
        },
        {
          "output_type": "display_data",
          "data": {
            "text/plain": [
              "<Figure size 360x360 with 1 Axes>"
            ],
            "image/png": "[encoded data removed]"
          },
          "metadata": {
            "needs_background": "light"
          }
        },
        {
          "output_type": "display_data",
          "data": {
            "text/plain": [
              "<Figure size 360x360 with 1 Axes>"
            ],
            "image/png": "[encoded data removed]"
          },
          "metadata": {
            "needs_background": "light"
          }
        }
      ]
    },
    {
      "cell_type": "code",
      "source": [
        "sns.lmplot(data=data,\n",
        "            x=\"Precipitation\",\n",
        "            y =\"Total\")\n",
        "\n",
        "\n",
        "sns.lmplot(data=data,\n",
        "            x=\"avg_tem\",\n",
        "            y =\"Total\")"
      ],
      "metadata": {
        "colab": {
          "base_uri": "https://localhost:8080/",
          "height": 739
        },
        "id": "VM6ez2UjENHl",
        "outputId": "96cb7ce5-0976-4722-a842-e5d676626197"
      },
      "execution_count": null,
      "outputs": [
        {
          "output_type": "execute_result",
          "data": {
            "text/plain": [
              "<seaborn.axisgrid.FacetGrid at 0x7f0e1b9b2e50>"
            ]
          },
          "metadata": {},
          "execution_count": 711
        },
        {
          "output_type": "display_data",
          "data": {
            "text/plain": [
              "<Figure size 360x360 with 1 Axes>"
            ],
            "image/png": "[encoded data removed]"
          },
          "metadata": {
            "needs_background": "light"
          }
        },
        {
          "output_type": "display_data",
          "data": {
            "text/plain": [
              "<Figure size 360x360 with 1 Axes>"
            ],
            "image/png": "[encoded data removed]"
          },
          "metadata": {
            "needs_background": "light"
          }
        }
      ]
    },
    {
      "cell_type": "code",
      "source": [
        "# data.corr().loc[:,[\"Total\"]].sort_values(\"Total\",key=abs,ascending = False).iloc[5:,:]\n",
        "\n",
        "for col in list(data.columns)[4:8]:\n",
        "  display(data.corr().loc[:,[col]].sort_values(col,key=abs,ascending = False).iloc[5:,:])"
      ],
      "metadata": {
        "colab": {
          "base_uri": "https://localhost:8080/",
          "height": 773
        },
        "id": "5Mv4eFMXJ7iV",
        "outputId": "993e0ed7-df91-4c8b-fd6b-9a29fef9c537"
      },
      "execution_count": null,
      "outputs": [
        {
          "output_type": "display_data",
          "data": {
            "text/plain": [
              "                   Brooklyn Bridge\n",
              "High Temp (°F)            0.739377\n",
              "Precipitation_cat        -0.724177\n",
              "avg_tem                   0.641702\n",
              "Precipitation            -0.599514\n",
              "Low Temp (°F)             0.464550"
            ],
            "text/html": [
              "\n",
              "  <div id=\"df-980d29ab-afa2-4c7a-bc53-b045cb42ae02\">\n",
              "    <div class=\"colab-df-container\">\n",
              "      <div>\n",
              "<style scoped>\n",
              "    .dataframe tbody tr th:only-of-type {\n",
              "        vertical-align: middle;\n",
              "    }\n",
              "\n",
              "    .dataframe tbody tr th {\n",
              "        vertical-align: top;\n",
              "    }\n",
              "\n",
              "    .dataframe thead th {\n",
              "        text-align: right;\n",
              "    }\n",
              "</style>\n",
              "<table border=\"1\" class=\"dataframe\">\n",
              "  <thead>\n",
              "    <tr style=\"text-align: right;\">\n",
              "      <th></th>\n",
              "      <th>Brooklyn Bridge</th>\n",
              "    </tr>\n",
              "  </thead>\n",
              "  <tbody>\n",
              "    <tr>\n",
              "      <th>High Temp (°F)</th>\n",
              "      <td>0.739377</td>\n",
              "    </tr>\n",
              "    <tr>\n",
              "      <th>Precipitation_cat</th>\n",
              "      <td>-0.724177</td>\n",
              "    </tr>\n",
              "    <tr>\n",
              "      <th>avg_tem</th>\n",
              "      <td>0.641702</td>\n",
              "    </tr>\n",
              "    <tr>\n",
              "      <th>Precipitation</th>\n",
              "      <td>-0.599514</td>\n",
              "    </tr>\n",
              "    <tr>\n",
              "      <th>Low Temp (°F)</th>\n",
              "      <td>0.464550</td>\n",
              "    </tr>\n",
              "  </tbody>\n",
              "</table>\n",
              "</div>\n",
              "      <button class=\"colab-df-convert\" onclick=\"convertToInteractive('df-980d29ab-afa2-4c7a-bc53-b045cb42ae02')\"\n",
              "              title=\"Convert this dataframe to an interactive table.\"\n",
              "              style=\"display:none;\">\n",
              "        \n",
              "  <svg xmlns=\"http://www.w3.org/2000/svg\" height=\"24px\"viewBox=\"0 0 24 24\"\n",
              "       width=\"24px\">\n",
              "    <path d=\"M0 0h24v24H0V0z\" fill=\"none\"/>\n",
              "    <path d=\"M18.56 5.44l.94 2.06.94-2.06 2.06-.94-2.06-.94-.94-2.06-.94 2.06-2.06.94zm-11 1L8.5 8.5l.94-2.06 2.06-.94-2.06-.94L8.5 2.5l-.94 2.06-2.06.94zm10 10l.94 2.06.94-2.06 2.06-.94-2.06-.94-.94-2.06-.94 2.06-2.06.94z\"/><path d=\"M17.41 7.96l-1.37-1.37c-.4-.4-.92-.59-1.43-.59-.52 0-1.04.2-1.43.59L10.3 9.45l-7.72 7.72c-.78.78-.78 2.05 0 2.83L4 21.41c.39.39.9.59 1.41.59.51 0 1.02-.2 1.41-.59l7.78-7.78 2.81-2.81c.8-.78.8-2.07 0-2.86zM5.41 20L4 18.59l7.72-7.72 1.47 1.35L5.41 20z\"/>\n",
              "  </svg>\n",
              "      </button>\n",
              "      \n",
              "  <style>\n",
              "    .colab-df-container {\n",
              "      display:flex;\n",
              "      flex-wrap:wrap;\n",
              "      gap: 12px;\n",
              "    }\n",
              "\n",
              "    .colab-df-convert {\n",
              "      background-color: #E8F0FE;\n",
              "      border: none;\n",
              "      border-radius: 50%;\n",
              "      cursor: pointer;\n",
              "      display: none;\n",
              "      fill: #1967D2;\n",
              "      height: 32px;\n",
              "      padding: 0 0 0 0;\n",
              "      width: 32px;\n",
              "    }\n",
              "\n",
              "    .colab-df-convert:hover {\n",
              "      background-color: #E2EBFA;\n",
              "      box-shadow: 0px 1px 2px rgba(60, 64, 67, 0.3), 0px 1px 3px 1px rgba(60, 64, 67, 0.15);\n",
              "      fill: #174EA6;\n",
              "    }\n",
              "\n",
              "    [theme=dark] .colab-df-convert {\n",
              "      background-color: #3B4455;\n",
              "      fill: #D2E3FC;\n",
              "    }\n",
              "\n",
              "    [theme=dark] .colab-df-convert:hover {\n",
              "      background-color: #434B5C;\n",
              "      box-shadow: 0px 1px 3px 1px rgba(0, 0, 0, 0.15);\n",
              "      filter: drop-shadow(0px 1px 2px rgba(0, 0, 0, 0.3));\n",
              "      fill: #FFFFFF;\n",
              "    }\n",
              "  </style>\n",
              "\n",
              "      <script>\n",
              "        const buttonEl =\n",
              "          document.querySelector('#df-980d29ab-afa2-4c7a-bc53-b045cb42ae02 button.colab-df-convert');\n",
              "        buttonEl.style.display =\n",
              "          google.colab.kernel.accessAllowed ? 'block' : 'none';\n",
              "\n",
              "        async function convertToInteractive(key) {\n",
              "          const element = document.querySelector('#df-980d29ab-afa2-4c7a-bc53-b045cb42ae02');\n",
              "          const dataTable =\n",
              "            await google.colab.kernel.invokeFunction('convertToInteractive',\n",
              "                                                     [key], {});\n",
              "          if (!dataTable) return;\n",
              "\n",
              "          const docLinkHtml = 'Like what you see? Visit the ' +\n",
              "            '<a target=\"_blank\" href=https://colab.research.google.com/notebooks/data_table.ipynb>data table notebook</a>'\n",
              "            + ' to learn more about interactive tables.';\n",
              "          element.innerHTML = '';\n",
              "          dataTable['output_type'] = 'display_data';\n",
              "          await google.colab.output.renderOutput(dataTable, element);\n",
              "          const docLink = document.createElement('div');\n",
              "          docLink.innerHTML = docLinkHtml;\n",
              "          element.appendChild(docLink);\n",
              "        }\n",
              "      </script>\n",
              "    </div>\n",
              "  </div>\n",
              "  "
            ]
          },
          "metadata": {}
        },
        {
          "output_type": "display_data",
          "data": {
            "text/plain": [
              "                   Manhattan Bridge\n",
              "High Temp (°F)             0.720175\n",
              "Precipitation_cat         -0.702047\n",
              "avg_tem                    0.631109\n",
              "Precipitation             -0.588419\n",
              "Low Temp (°F)              0.465097"
            ],
            "text/html": [
              "\n",
              "  <div id=\"df-47e1c562-5f6d-4078-ba59-b060935064a2\">\n",
              "    <div class=\"colab-df-container\">\n",
              "      <div>\n",
              "<style scoped>\n",
              "    .dataframe tbody tr th:only-of-type {\n",
              "        vertical-align: middle;\n",
              "    }\n",
              "\n",
              "    .dataframe tbody tr th {\n",
              "        vertical-align: top;\n",
              "    }\n",
              "\n",
              "    .dataframe thead th {\n",
              "        text-align: right;\n",
              "    }\n",
              "</style>\n",
              "<table border=\"1\" class=\"dataframe\">\n",
              "  <thead>\n",
              "    <tr style=\"text-align: right;\">\n",
              "      <th></th>\n",
              "      <th>Manhattan Bridge</th>\n",
              "    </tr>\n",
              "  </thead>\n",
              "  <tbody>\n",
              "    <tr>\n",
              "      <th>High Temp (°F)</th>\n",
              "      <td>0.720175</td>\n",
              "    </tr>\n",
              "    <tr>\n",
              "      <th>Precipitation_cat</th>\n",
              "      <td>-0.702047</td>\n",
              "    </tr>\n",
              "    <tr>\n",
              "      <th>avg_tem</th>\n",
              "      <td>0.631109</td>\n",
              "    </tr>\n",
              "    <tr>\n",
              "      <th>Precipitation</th>\n",
              "      <td>-0.588419</td>\n",
              "    </tr>\n",
              "    <tr>\n",
              "      <th>Low Temp (°F)</th>\n",
              "      <td>0.465097</td>\n",
              "    </tr>\n",
              "  </tbody>\n",
              "</table>\n",
              "</div>\n",
              "      <button class=\"colab-df-convert\" onclick=\"convertToInteractive('df-47e1c562-5f6d-4078-ba59-b060935064a2')\"\n",
              "              title=\"Convert this dataframe to an interactive table.\"\n",
              "              style=\"display:none;\">\n",
              "        \n",
              "  <svg xmlns=\"http://www.w3.org/2000/svg\" height=\"24px\"viewBox=\"0 0 24 24\"\n",
              "       width=\"24px\">\n",
              "    <path d=\"M0 0h24v24H0V0z\" fill=\"none\"/>\n",
              "    <path d=\"M18.56 5.44l.94 2.06.94-2.06 2.06-.94-2.06-.94-.94-2.06-.94 2.06-2.06.94zm-11 1L8.5 8.5l.94-2.06 2.06-.94-2.06-.94L8.5 2.5l-.94 2.06-2.06.94zm10 10l.94 2.06.94-2.06 2.06-.94-2.06-.94-.94-2.06-.94 2.06-2.06.94z\"/><path d=\"M17.41 7.96l-1.37-1.37c-.4-.4-.92-.59-1.43-.59-.52 0-1.04.2-1.43.59L10.3 9.45l-7.72 7.72c-.78.78-.78 2.05 0 2.83L4 21.41c.39.39.9.59 1.41.59.51 0 1.02-.2 1.41-.59l7.78-7.78 2.81-2.81c.8-.78.8-2.07 0-2.86zM5.41 20L4 18.59l7.72-7.72 1.47 1.35L5.41 20z\"/>\n",
              "  </svg>\n",
              "      </button>\n",
              "      \n",
              "  <style>\n",
              "    .colab-df-container {\n",
              "      display:flex;\n",
              "      flex-wrap:wrap;\n",
              "      gap: 12px;\n",
              "    }\n",
              "\n",
              "    .colab-df-convert {\n",
              "      background-color: #E8F0FE;\n",
              "      border: none;\n",
              "      border-radius: 50%;\n",
              "      cursor: pointer;\n",
              "      display: none;\n",
              "      fill: #1967D2;\n",
              "      height: 32px;\n",
              "      padding: 0 0 0 0;\n",
              "      width: 32px;\n",
              "    }\n",
              "\n",
              "    .colab-df-convert:hover {\n",
              "      background-color: #E2EBFA;\n",
              "      box-shadow: 0px 1px 2px rgba(60, 64, 67, 0.3), 0px 1px 3px 1px rgba(60, 64, 67, 0.15);\n",
              "      fill: #174EA6;\n",
              "    }\n",
              "\n",
              "    [theme=dark] .colab-df-convert {\n",
              "      background-color: #3B4455;\n",
              "      fill: #D2E3FC;\n",
              "    }\n",
              "\n",
              "    [theme=dark] .colab-df-convert:hover {\n",
              "      background-color: #434B5C;\n",
              "      box-shadow: 0px 1px 3px 1px rgba(0, 0, 0, 0.15);\n",
              "      filter: drop-shadow(0px 1px 2px rgba(0, 0, 0, 0.3));\n",
              "      fill: #FFFFFF;\n",
              "    }\n",
              "  </style>\n",
              "\n",
              "      <script>\n",
              "        const buttonEl =\n",
              "          document.querySelector('#df-47e1c562-5f6d-4078-ba59-b060935064a2 button.colab-df-convert');\n",
              "        buttonEl.style.display =\n",
              "          google.colab.kernel.accessAllowed ? 'block' : 'none';\n",
              "\n",
              "        async function convertToInteractive(key) {\n",
              "          const element = document.querySelector('#df-47e1c562-5f6d-4078-ba59-b060935064a2');\n",
              "          const dataTable =\n",
              "            await google.colab.kernel.invokeFunction('convertToInteractive',\n",
              "                                                     [key], {});\n",
              "          if (!dataTable) return;\n",
              "\n",
              "          const docLinkHtml = 'Like what you see? Visit the ' +\n",
              "            '<a target=\"_blank\" href=https://colab.research.google.com/notebooks/data_table.ipynb>data table notebook</a>'\n",
              "            + ' to learn more about interactive tables.';\n",
              "          element.innerHTML = '';\n",
              "          dataTable['output_type'] = 'display_data';\n",
              "          await google.colab.output.renderOutput(dataTable, element);\n",
              "          const docLink = document.createElement('div');\n",
              "          docLink.innerHTML = docLinkHtml;\n",
              "          element.appendChild(docLink);\n",
              "        }\n",
              "      </script>\n",
              "    </div>\n",
              "  </div>\n",
              "  "
            ]
          },
          "metadata": {}
        },
        {
          "output_type": "display_data",
          "data": {
            "text/plain": [
              "                   Williamsburg Bridge\n",
              "High Temp (°F)                0.764336\n",
              "avg_tem                       0.689353\n",
              "Precipitation_cat            -0.679340\n",
              "Precipitation                -0.576076\n",
              "Low Temp (°F)                 0.534212"
            ],
            "text/html": [
              "\n",
              "  <div id=\"df-000ae8bd-e0f4-4928-9984-679ddc8f9a3d\">\n",
              "    <div class=\"colab-df-container\">\n",
              "      <div>\n",
              "<style scoped>\n",
              "    .dataframe tbody tr th:only-of-type {\n",
              "        vertical-align: middle;\n",
              "    }\n",
              "\n",
              "    .dataframe tbody tr th {\n",
              "        vertical-align: top;\n",
              "    }\n",
              "\n",
              "    .dataframe thead th {\n",
              "        text-align: right;\n",
              "    }\n",
              "</style>\n",
              "<table border=\"1\" class=\"dataframe\">\n",
              "  <thead>\n",
              "    <tr style=\"text-align: right;\">\n",
              "      <th></th>\n",
              "      <th>Williamsburg Bridge</th>\n",
              "    </tr>\n",
              "  </thead>\n",
              "  <tbody>\n",
              "    <tr>\n",
              "      <th>High Temp (°F)</th>\n",
              "      <td>0.764336</td>\n",
              "    </tr>\n",
              "    <tr>\n",
              "      <th>avg_tem</th>\n",
              "      <td>0.689353</td>\n",
              "    </tr>\n",
              "    <tr>\n",
              "      <th>Precipitation_cat</th>\n",
              "      <td>-0.679340</td>\n",
              "    </tr>\n",
              "    <tr>\n",
              "      <th>Precipitation</th>\n",
              "      <td>-0.576076</td>\n",
              "    </tr>\n",
              "    <tr>\n",
              "      <th>Low Temp (°F)</th>\n",
              "      <td>0.534212</td>\n",
              "    </tr>\n",
              "  </tbody>\n",
              "</table>\n",
              "</div>\n",
              "      <button class=\"colab-df-convert\" onclick=\"convertToInteractive('df-000ae8bd-e0f4-4928-9984-679ddc8f9a3d')\"\n",
              "              title=\"Convert this dataframe to an interactive table.\"\n",
              "              style=\"display:none;\">\n",
              "        \n",
              "  <svg xmlns=\"http://www.w3.org/2000/svg\" height=\"24px\"viewBox=\"0 0 24 24\"\n",
              "       width=\"24px\">\n",
              "    <path d=\"M0 0h24v24H0V0z\" fill=\"none\"/>\n",
              "    <path d=\"M18.56 5.44l.94 2.06.94-2.06 2.06-.94-2.06-.94-.94-2.06-.94 2.06-2.06.94zm-11 1L8.5 8.5l.94-2.06 2.06-.94-2.06-.94L8.5 2.5l-.94 2.06-2.06.94zm10 10l.94 2.06.94-2.06 2.06-.94-2.06-.94-.94-2.06-.94 2.06-2.06.94z\"/><path d=\"M17.41 7.96l-1.37-1.37c-.4-.4-.92-.59-1.43-.59-.52 0-1.04.2-1.43.59L10.3 9.45l-7.72 7.72c-.78.78-.78 2.05 0 2.83L4 21.41c.39.39.9.59 1.41.59.51 0 1.02-.2 1.41-.59l7.78-7.78 2.81-2.81c.8-.78.8-2.07 0-2.86zM5.41 20L4 18.59l7.72-7.72 1.47 1.35L5.41 20z\"/>\n",
              "  </svg>\n",
              "      </button>\n",
              "      \n",
              "  <style>\n",
              "    .colab-df-container {\n",
              "      display:flex;\n",
              "      flex-wrap:wrap;\n",
              "      gap: 12px;\n",
              "    }\n",
              "\n",
              "    .colab-df-convert {\n",
              "      background-color: #E8F0FE;\n",
              "      border: none;\n",
              "      border-radius: 50%;\n",
              "      cursor: pointer;\n",
              "      display: none;\n",
              "      fill: #1967D2;\n",
              "      height: 32px;\n",
              "      padding: 0 0 0 0;\n",
              "      width: 32px;\n",
              "    }\n",
              "\n",
              "    .colab-df-convert:hover {\n",
              "      background-color: #E2EBFA;\n",
              "      box-shadow: 0px 1px 2px rgba(60, 64, 67, 0.3), 0px 1px 3px 1px rgba(60, 64, 67, 0.15);\n",
              "      fill: #174EA6;\n",
              "    }\n",
              "\n",
              "    [theme=dark] .colab-df-convert {\n",
              "      background-color: #3B4455;\n",
              "      fill: #D2E3FC;\n",
              "    }\n",
              "\n",
              "    [theme=dark] .colab-df-convert:hover {\n",
              "      background-color: #434B5C;\n",
              "      box-shadow: 0px 1px 3px 1px rgba(0, 0, 0, 0.15);\n",
              "      filter: drop-shadow(0px 1px 2px rgba(0, 0, 0, 0.3));\n",
              "      fill: #FFFFFF;\n",
              "    }\n",
              "  </style>\n",
              "\n",
              "      <script>\n",
              "        const buttonEl =\n",
              "          document.querySelector('#df-000ae8bd-e0f4-4928-9984-679ddc8f9a3d button.colab-df-convert');\n",
              "        buttonEl.style.display =\n",
              "          google.colab.kernel.accessAllowed ? 'block' : 'none';\n",
              "\n",
              "        async function convertToInteractive(key) {\n",
              "          const element = document.querySelector('#df-000ae8bd-e0f4-4928-9984-679ddc8f9a3d');\n",
              "          const dataTable =\n",
              "            await google.colab.kernel.invokeFunction('convertToInteractive',\n",
              "                                                     [key], {});\n",
              "          if (!dataTable) return;\n",
              "\n",
              "          const docLinkHtml = 'Like what you see? Visit the ' +\n",
              "            '<a target=\"_blank\" href=https://colab.research.google.com/notebooks/data_table.ipynb>data table notebook</a>'\n",
              "            + ' to learn more about interactive tables.';\n",
              "          element.innerHTML = '';\n",
              "          dataTable['output_type'] = 'display_data';\n",
              "          await google.colab.output.renderOutput(dataTable, element);\n",
              "          const docLink = document.createElement('div');\n",
              "          docLink.innerHTML = docLinkHtml;\n",
              "          element.appendChild(docLink);\n",
              "        }\n",
              "      </script>\n",
              "    </div>\n",
              "  </div>\n",
              "  "
            ]
          },
          "metadata": {}
        },
        {
          "output_type": "display_data",
          "data": {
            "text/plain": [
              "                   Queensboro Bridge\n",
              "High Temp (°F)              0.727825\n",
              "Precipitation_cat          -0.698163\n",
              "avg_tem                     0.640551\n",
              "Precipitation              -0.596254\n",
              "Low Temp (°F)               0.475725"
            ],
            "text/html": [
              "\n",
              "  <div id=\"df-382f969f-e5f8-44bc-971f-ea7f10b442c6\">\n",
              "    <div class=\"colab-df-container\">\n",
              "      <div>\n",
              "<style scoped>\n",
              "    .dataframe tbody tr th:only-of-type {\n",
              "        vertical-align: middle;\n",
              "    }\n",
              "\n",
              "    .dataframe tbody tr th {\n",
              "        vertical-align: top;\n",
              "    }\n",
              "\n",
              "    .dataframe thead th {\n",
              "        text-align: right;\n",
              "    }\n",
              "</style>\n",
              "<table border=\"1\" class=\"dataframe\">\n",
              "  <thead>\n",
              "    <tr style=\"text-align: right;\">\n",
              "      <th></th>\n",
              "      <th>Queensboro Bridge</th>\n",
              "    </tr>\n",
              "  </thead>\n",
              "  <tbody>\n",
              "    <tr>\n",
              "      <th>High Temp (°F)</th>\n",
              "      <td>0.727825</td>\n",
              "    </tr>\n",
              "    <tr>\n",
              "      <th>Precipitation_cat</th>\n",
              "      <td>-0.698163</td>\n",
              "    </tr>\n",
              "    <tr>\n",
              "      <th>avg_tem</th>\n",
              "      <td>0.640551</td>\n",
              "    </tr>\n",
              "    <tr>\n",
              "      <th>Precipitation</th>\n",
              "      <td>-0.596254</td>\n",
              "    </tr>\n",
              "    <tr>\n",
              "      <th>Low Temp (°F)</th>\n",
              "      <td>0.475725</td>\n",
              "    </tr>\n",
              "  </tbody>\n",
              "</table>\n",
              "</div>\n",
              "      <button class=\"colab-df-convert\" onclick=\"convertToInteractive('df-382f969f-e5f8-44bc-971f-ea7f10b442c6')\"\n",
              "              title=\"Convert this dataframe to an interactive table.\"\n",
              "              style=\"display:none;\">\n",
              "        \n",
              "  <svg xmlns=\"http://www.w3.org/2000/svg\" height=\"24px\"viewBox=\"0 0 24 24\"\n",
              "       width=\"24px\">\n",
              "    <path d=\"M0 0h24v24H0V0z\" fill=\"none\"/>\n",
              "    <path d=\"M18.56 5.44l.94 2.06.94-2.06 2.06-.94-2.06-.94-.94-2.06-.94 2.06-2.06.94zm-11 1L8.5 8.5l.94-2.06 2.06-.94-2.06-.94L8.5 2.5l-.94 2.06-2.06.94zm10 10l.94 2.06.94-2.06 2.06-.94-2.06-.94-.94-2.06-.94 2.06-2.06.94z\"/><path d=\"M17.41 7.96l-1.37-1.37c-.4-.4-.92-.59-1.43-.59-.52 0-1.04.2-1.43.59L10.3 9.45l-7.72 7.72c-.78.78-.78 2.05 0 2.83L4 21.41c.39.39.9.59 1.41.59.51 0 1.02-.2 1.41-.59l7.78-7.78 2.81-2.81c.8-.78.8-2.07 0-2.86zM5.41 20L4 18.59l7.72-7.72 1.47 1.35L5.41 20z\"/>\n",
              "  </svg>\n",
              "      </button>\n",
              "      \n",
              "  <style>\n",
              "    .colab-df-container {\n",
              "      display:flex;\n",
              "      flex-wrap:wrap;\n",
              "      gap: 12px;\n",
              "    }\n",
              "\n",
              "    .colab-df-convert {\n",
              "      background-color: #E8F0FE;\n",
              "      border: none;\n",
              "      border-radius: 50%;\n",
              "      cursor: pointer;\n",
              "      display: none;\n",
              "      fill: #1967D2;\n",
              "      height: 32px;\n",
              "      padding: 0 0 0 0;\n",
              "      width: 32px;\n",
              "    }\n",
              "\n",
              "    .colab-df-convert:hover {\n",
              "      background-color: #E2EBFA;\n",
              "      box-shadow: 0px 1px 2px rgba(60, 64, 67, 0.3), 0px 1px 3px 1px rgba(60, 64, 67, 0.15);\n",
              "      fill: #174EA6;\n",
              "    }\n",
              "\n",
              "    [theme=dark] .colab-df-convert {\n",
              "      background-color: #3B4455;\n",
              "      fill: #D2E3FC;\n",
              "    }\n",
              "\n",
              "    [theme=dark] .colab-df-convert:hover {\n",
              "      background-color: #434B5C;\n",
              "      box-shadow: 0px 1px 3px 1px rgba(0, 0, 0, 0.15);\n",
              "      filter: drop-shadow(0px 1px 2px rgba(0, 0, 0, 0.3));\n",
              "      fill: #FFFFFF;\n",
              "    }\n",
              "  </style>\n",
              "\n",
              "      <script>\n",
              "        const buttonEl =\n",
              "          document.querySelector('#df-382f969f-e5f8-44bc-971f-ea7f10b442c6 button.colab-df-convert');\n",
              "        buttonEl.style.display =\n",
              "          google.colab.kernel.accessAllowed ? 'block' : 'none';\n",
              "\n",
              "        async function convertToInteractive(key) {\n",
              "          const element = document.querySelector('#df-382f969f-e5f8-44bc-971f-ea7f10b442c6');\n",
              "          const dataTable =\n",
              "            await google.colab.kernel.invokeFunction('convertToInteractive',\n",
              "                                                     [key], {});\n",
              "          if (!dataTable) return;\n",
              "\n",
              "          const docLinkHtml = 'Like what you see? Visit the ' +\n",
              "            '<a target=\"_blank\" href=https://colab.research.google.com/notebooks/data_table.ipynb>data table notebook</a>'\n",
              "            + ' to learn more about interactive tables.';\n",
              "          element.innerHTML = '';\n",
              "          dataTable['output_type'] = 'display_data';\n",
              "          await google.colab.output.renderOutput(dataTable, element);\n",
              "          const docLink = document.createElement('div');\n",
              "          docLink.innerHTML = docLinkHtml;\n",
              "          element.appendChild(docLink);\n",
              "        }\n",
              "      </script>\n",
              "    </div>\n",
              "  </div>\n",
              "  "
            ]
          },
          "metadata": {}
        }
      ]
    },
    {
      "cell_type": "code",
      "source": [
        "data.melt(id_vars = [\"Date\",\"Precipitation_cat\"],\n",
        "          value_vars = [\"Brooklyn Bridge\",\"Manhattan Bridge\",\"Williamsburg Bridge\",\"Queensboro Bridge\"]).\\\n",
        "          groupby([\"variable\",\"Precipitation_cat\"]).agg({\"value\":sum}).reset_index()\n",
        "          \n",
        "  # .query(\"Precipitation_cat==1\")"
      ],
      "metadata": {
        "colab": {
          "base_uri": "https://localhost:8080/",
          "height": 300
        },
        "id": "UDbAstOwW0ix",
        "outputId": "d01bc8b2-dd76-4fb6-87c8-3af3e3a6b859"
      },
      "execution_count": null,
      "outputs": [
        {
          "output_type": "execute_result",
          "data": {
            "text/plain": [
              "              variable  Precipitation_cat   value\n",
              "0      Brooklyn Bridge                  0   51272\n",
              "1      Brooklyn Bridge                  1   16817\n",
              "2     Manhattan Bridge                  0   90439\n",
              "3     Manhattan Bridge                  1   31047\n",
              "4    Queensboro Bridge                  0   71604\n",
              "5    Queensboro Bridge                  1   28982\n",
              "6  Williamsburg Bridge                  0  105593\n",
              "7  Williamsburg Bridge                  1   40281"
            ],
            "text/html": [
              "\n",
              "  <div id=\"df-45735cc4-56b1-4569-9691-38027526694b\">\n",
              "    <div class=\"colab-df-container\">\n",
              "      <div>\n",
              "<style scoped>\n",
              "    .dataframe tbody tr th:only-of-type {\n",
              "        vertical-align: middle;\n",
              "    }\n",
              "\n",
              "    .dataframe tbody tr th {\n",
              "        vertical-align: top;\n",
              "    }\n",
              "\n",
              "    .dataframe thead th {\n",
              "        text-align: right;\n",
              "    }\n",
              "</style>\n",
              "<table border=\"1\" class=\"dataframe\">\n",
              "  <thead>\n",
              "    <tr style=\"text-align: right;\">\n",
              "      <th></th>\n",
              "      <th>variable</th>\n",
              "      <th>Precipitation_cat</th>\n",
              "      <th>value</th>\n",
              "    </tr>\n",
              "  </thead>\n",
              "  <tbody>\n",
              "    <tr>\n",
              "      <th>0</th>\n",
              "      <td>Brooklyn Bridge</td>\n",
              "      <td>0</td>\n",
              "      <td>51272</td>\n",
              "    </tr>\n",
              "    <tr>\n",
              "      <th>1</th>\n",
              "      <td>Brooklyn Bridge</td>\n",
              "      <td>1</td>\n",
              "      <td>16817</td>\n",
              "    </tr>\n",
              "    <tr>\n",
              "      <th>2</th>\n",
              "      <td>Manhattan Bridge</td>\n",
              "      <td>0</td>\n",
              "      <td>90439</td>\n",
              "    </tr>\n",
              "    <tr>\n",
              "      <th>3</th>\n",
              "      <td>Manhattan Bridge</td>\n",
              "      <td>1</td>\n",
              "      <td>31047</td>\n",
              "    </tr>\n",
              "    <tr>\n",
              "      <th>4</th>\n",
              "      <td>Queensboro Bridge</td>\n",
              "      <td>0</td>\n",
              "      <td>71604</td>\n",
              "    </tr>\n",
              "    <tr>\n",
              "      <th>5</th>\n",
              "      <td>Queensboro Bridge</td>\n",
              "      <td>1</td>\n",
              "      <td>28982</td>\n",
              "    </tr>\n",
              "    <tr>\n",
              "      <th>6</th>\n",
              "      <td>Williamsburg Bridge</td>\n",
              "      <td>0</td>\n",
              "      <td>105593</td>\n",
              "    </tr>\n",
              "    <tr>\n",
              "      <th>7</th>\n",
              "      <td>Williamsburg Bridge</td>\n",
              "      <td>1</td>\n",
              "      <td>40281</td>\n",
              "    </tr>\n",
              "  </tbody>\n",
              "</table>\n",
              "</div>\n",
              "      <button class=\"colab-df-convert\" onclick=\"convertToInteractive('df-45735cc4-56b1-4569-9691-38027526694b')\"\n",
              "              title=\"Convert this dataframe to an interactive table.\"\n",
              "              style=\"display:none;\">\n",
              "        \n",
              "  <svg xmlns=\"http://www.w3.org/2000/svg\" height=\"24px\"viewBox=\"0 0 24 24\"\n",
              "       width=\"24px\">\n",
              "    <path d=\"M0 0h24v24H0V0z\" fill=\"none\"/>\n",
              "    <path d=\"M18.56 5.44l.94 2.06.94-2.06 2.06-.94-2.06-.94-.94-2.06-.94 2.06-2.06.94zm-11 1L8.5 8.5l.94-2.06 2.06-.94-2.06-.94L8.5 2.5l-.94 2.06-2.06.94zm10 10l.94 2.06.94-2.06 2.06-.94-2.06-.94-.94-2.06-.94 2.06-2.06.94z\"/><path d=\"M17.41 7.96l-1.37-1.37c-.4-.4-.92-.59-1.43-.59-.52 0-1.04.2-1.43.59L10.3 9.45l-7.72 7.72c-.78.78-.78 2.05 0 2.83L4 21.41c.39.39.9.59 1.41.59.51 0 1.02-.2 1.41-.59l7.78-7.78 2.81-2.81c.8-.78.8-2.07 0-2.86zM5.41 20L4 18.59l7.72-7.72 1.47 1.35L5.41 20z\"/>\n",
              "  </svg>\n",
              "      </button>\n",
              "      \n",
              "  <style>\n",
              "    .colab-df-container {\n",
              "      display:flex;\n",
              "      flex-wrap:wrap;\n",
              "      gap: 12px;\n",
              "    }\n",
              "\n",
              "    .colab-df-convert {\n",
              "      background-color: #E8F0FE;\n",
              "      border: none;\n",
              "      border-radius: 50%;\n",
              "      cursor: pointer;\n",
              "      display: none;\n",
              "      fill: #1967D2;\n",
              "      height: 32px;\n",
              "      padding: 0 0 0 0;\n",
              "      width: 32px;\n",
              "    }\n",
              "\n",
              "    .colab-df-convert:hover {\n",
              "      background-color: #E2EBFA;\n",
              "      box-shadow: 0px 1px 2px rgba(60, 64, 67, 0.3), 0px 1px 3px 1px rgba(60, 64, 67, 0.15);\n",
              "      fill: #174EA6;\n",
              "    }\n",
              "\n",
              "    [theme=dark] .colab-df-convert {\n",
              "      background-color: #3B4455;\n",
              "      fill: #D2E3FC;\n",
              "    }\n",
              "\n",
              "    [theme=dark] .colab-df-convert:hover {\n",
              "      background-color: #434B5C;\n",
              "      box-shadow: 0px 1px 3px 1px rgba(0, 0, 0, 0.15);\n",
              "      filter: drop-shadow(0px 1px 2px rgba(0, 0, 0, 0.3));\n",
              "      fill: #FFFFFF;\n",
              "    }\n",
              "  </style>\n",
              "\n",
              "      <script>\n",
              "        const buttonEl =\n",
              "          document.querySelector('#df-45735cc4-56b1-4569-9691-38027526694b button.colab-df-convert');\n",
              "        buttonEl.style.display =\n",
              "          google.colab.kernel.accessAllowed ? 'block' : 'none';\n",
              "\n",
              "        async function convertToInteractive(key) {\n",
              "          const element = document.querySelector('#df-45735cc4-56b1-4569-9691-38027526694b');\n",
              "          const dataTable =\n",
              "            await google.colab.kernel.invokeFunction('convertToInteractive',\n",
              "                                                     [key], {});\n",
              "          if (!dataTable) return;\n",
              "\n",
              "          const docLinkHtml = 'Like what you see? Visit the ' +\n",
              "            '<a target=\"_blank\" href=https://colab.research.google.com/notebooks/data_table.ipynb>data table notebook</a>'\n",
              "            + ' to learn more about interactive tables.';\n",
              "          element.innerHTML = '';\n",
              "          dataTable['output_type'] = 'display_data';\n",
              "          await google.colab.output.renderOutput(dataTable, element);\n",
              "          const docLink = document.createElement('div');\n",
              "          docLink.innerHTML = docLinkHtml;\n",
              "          element.appendChild(docLink);\n",
              "        }\n",
              "      </script>\n",
              "    </div>\n",
              "  </div>\n",
              "  "
            ]
          },
          "metadata": {},
          "execution_count": 713
        }
      ]
    },
    {
      "cell_type": "code",
      "source": [
        "melted_df=data.melt(id_vars = [\"Date\",\"Precipitation_cat\",\"High Temp (°F)\",\"Low Temp (°F)\",\"Precipitation\",\"avg_tem\"],\n",
        "          value_vars = [\"Brooklyn Bridge\",\"Manhattan Bridge\",\"Williamsburg Bridge\",\"Queensboro Bridge\"])"
      ],
      "metadata": {
        "id": "ki5TIex_besg"
      },
      "execution_count": null,
      "outputs": []
    },
    {
      "cell_type": "code",
      "source": [
        "srednie_df = melted_df.groupby(\"variable\").agg({\"value\":np.mean}).reset_index()\n",
        "melted_df = pd.merge(melted_df,srednie_df,\n",
        "         how=\"left\",\n",
        "         on=\"variable\")\n",
        "\n",
        "melted_df[\"nowy_y\"] = melted_df[\"value_x\"]/melted_df[\"value_y\"]\n",
        "melted_df"
      ],
      "metadata": {
        "colab": {
          "base_uri": "https://localhost:8080/",
          "height": 423
        },
        "id": "PFR9wRx-cAKQ",
        "outputId": "d985753e-88de-4a3b-85fe-28f6520f68df"
      },
      "execution_count": null,
      "outputs": [
        {
          "output_type": "execute_result",
          "data": {
            "text/plain": [
              "          Date  Precipitation_cat  High Temp (°F)  Low Temp (°F)  \\\n",
              "0   2016-04-01                  1            78.1           66.0   \n",
              "1   2016-04-02                  1            55.0           48.9   \n",
              "2   2016-04-03                  1            39.9           34.0   \n",
              "3   2016-04-04                  1            44.1           33.1   \n",
              "4   2016-04-05                  0            42.1           26.1   \n",
              "..         ...                ...             ...            ...   \n",
              "115 2016-04-26                  1            60.1           46.9   \n",
              "116 2016-04-27                  0            62.1           46.9   \n",
              "117 2016-04-28                  0            57.9           48.0   \n",
              "118 2016-04-29                  1            57.0           46.9   \n",
              "119 2016-04-30                  0            64.0           48.0   \n",
              "\n",
              "     Precipitation  avg_tem           variable  value_x      value_y    nowy_y  \n",
              "0             0.01    72.05    Brooklyn Bridge     1704  2269.633333  0.750782  \n",
              "1             0.15    51.95    Brooklyn Bridge      827  2269.633333  0.364376  \n",
              "2             0.09    36.95    Brooklyn Bridge      526  2269.633333  0.231755  \n",
              "3             0.47    38.60    Brooklyn Bridge      521  2269.633333  0.229552  \n",
              "4             0.00    34.10    Brooklyn Bridge     1416  2269.633333  0.623889  \n",
              "..             ...      ...                ...      ...          ...       ...  \n",
              "115           0.24    53.50  Queensboro Bridge     2929  3352.866667  0.873581  \n",
              "116           0.00    54.50  Queensboro Bridge     4388  3352.866667  1.308731  \n",
              "117           0.00    52.95  Queensboro Bridge     3657  3352.866667  1.090708  \n",
              "118           0.05    51.95  Queensboro Bridge     3348  3352.866667  0.998549  \n",
              "119           0.00    56.00  Queensboro Bridge     3606  3352.866667  1.075498  \n",
              "\n",
              "[120 rows x 10 columns]"
            ],
            "text/html": [
              "\n",
              "  <div id=\"df-f4779231-14a9-4608-8e3c-23bb964bc046\">\n",
              "    <div class=\"colab-df-container\">\n",
              "      <div>\n",
              "<style scoped>\n",
              "    .dataframe tbody tr th:only-of-type {\n",
              "        vertical-align: middle;\n",
              "    }\n",
              "\n",
              "    .dataframe tbody tr th {\n",
              "        vertical-align: top;\n",
              "    }\n",
              "\n",
              "    .dataframe thead th {\n",
              "        text-align: right;\n",
              "    }\n",
              "</style>\n",
              "<table border=\"1\" class=\"dataframe\">\n",
              "  <thead>\n",
              "    <tr style=\"text-align: right;\">\n",
              "      <th></th>\n",
              "      <th>Date</th>\n",
              "      <th>Precipitation_cat</th>\n",
              "      <th>High Temp (°F)</th>\n",
              "      <th>Low Temp (°F)</th>\n",
              "      <th>Precipitation</th>\n",
              "      <th>avg_tem</th>\n",
              "      <th>variable</th>\n",
              "      <th>value_x</th>\n",
              "      <th>value_y</th>\n",
              "      <th>nowy_y</th>\n",
              "    </tr>\n",
              "  </thead>\n",
              "  <tbody>\n",
              "    <tr>\n",
              "      <th>0</th>\n",
              "      <td>2016-04-01</td>\n",
              "      <td>1</td>\n",
              "      <td>78.1</td>\n",
              "      <td>66.0</td>\n",
              "      <td>0.01</td>\n",
              "      <td>72.05</td>\n",
              "      <td>Brooklyn Bridge</td>\n",
              "      <td>1704</td>\n",
              "      <td>2269.633333</td>\n",
              "      <td>0.750782</td>\n",
              "    </tr>\n",
              "    <tr>\n",
              "      <th>1</th>\n",
              "      <td>2016-04-02</td>\n",
              "      <td>1</td>\n",
              "      <td>55.0</td>\n",
              "      <td>48.9</td>\n",
              "      <td>0.15</td>\n",
              "      <td>51.95</td>\n",
              "      <td>Brooklyn Bridge</td>\n",
              "      <td>827</td>\n",
              "      <td>2269.633333</td>\n",
              "      <td>0.364376</td>\n",
              "    </tr>\n",
              "    <tr>\n",
              "      <th>2</th>\n",
              "      <td>2016-04-03</td>\n",
              "      <td>1</td>\n",
              "      <td>39.9</td>\n",
              "      <td>34.0</td>\n",
              "      <td>0.09</td>\n",
              "      <td>36.95</td>\n",
              "      <td>Brooklyn Bridge</td>\n",
              "      <td>526</td>\n",
              "      <td>2269.633333</td>\n",
              "      <td>0.231755</td>\n",
              "    </tr>\n",
              "    <tr>\n",
              "      <th>3</th>\n",
              "      <td>2016-04-04</td>\n",
              "      <td>1</td>\n",
              "      <td>44.1</td>\n",
              "      <td>33.1</td>\n",
              "      <td>0.47</td>\n",
              "      <td>38.60</td>\n",
              "      <td>Brooklyn Bridge</td>\n",
              "      <td>521</td>\n",
              "      <td>2269.633333</td>\n",
              "      <td>0.229552</td>\n",
              "    </tr>\n",
              "    <tr>\n",
              "      <th>4</th>\n",
              "      <td>2016-04-05</td>\n",
              "      <td>0</td>\n",
              "      <td>42.1</td>\n",
              "      <td>26.1</td>\n",
              "      <td>0.00</td>\n",
              "      <td>34.10</td>\n",
              "      <td>Brooklyn Bridge</td>\n",
              "      <td>1416</td>\n",
              "      <td>2269.633333</td>\n",
              "      <td>0.623889</td>\n",
              "    </tr>\n",
              "    <tr>\n",
              "      <th>...</th>\n",
              "      <td>...</td>\n",
              "      <td>...</td>\n",
              "      <td>...</td>\n",
              "      <td>...</td>\n",
              "      <td>...</td>\n",
              "      <td>...</td>\n",
              "      <td>...</td>\n",
              "      <td>...</td>\n",
              "      <td>...</td>\n",
              "      <td>...</td>\n",
              "    </tr>\n",
              "    <tr>\n",
              "      <th>115</th>\n",
              "      <td>2016-04-26</td>\n",
              "      <td>1</td>\n",
              "      <td>60.1</td>\n",
              "      <td>46.9</td>\n",
              "      <td>0.24</td>\n",
              "      <td>53.50</td>\n",
              "      <td>Queensboro Bridge</td>\n",
              "      <td>2929</td>\n",
              "      <td>3352.866667</td>\n",
              "      <td>0.873581</td>\n",
              "    </tr>\n",
              "    <tr>\n",
              "      <th>116</th>\n",
              "      <td>2016-04-27</td>\n",
              "      <td>0</td>\n",
              "      <td>62.1</td>\n",
              "      <td>46.9</td>\n",
              "      <td>0.00</td>\n",
              "      <td>54.50</td>\n",
              "      <td>Queensboro Bridge</td>\n",
              "      <td>4388</td>\n",
              "      <td>3352.866667</td>\n",
              "      <td>1.308731</td>\n",
              "    </tr>\n",
              "    <tr>\n",
              "      <th>117</th>\n",
              "      <td>2016-04-28</td>\n",
              "      <td>0</td>\n",
              "      <td>57.9</td>\n",
              "      <td>48.0</td>\n",
              "      <td>0.00</td>\n",
              "      <td>52.95</td>\n",
              "      <td>Queensboro Bridge</td>\n",
              "      <td>3657</td>\n",
              "      <td>3352.866667</td>\n",
              "      <td>1.090708</td>\n",
              "    </tr>\n",
              "    <tr>\n",
              "      <th>118</th>\n",
              "      <td>2016-04-29</td>\n",
              "      <td>1</td>\n",
              "      <td>57.0</td>\n",
              "      <td>46.9</td>\n",
              "      <td>0.05</td>\n",
              "      <td>51.95</td>\n",
              "      <td>Queensboro Bridge</td>\n",
              "      <td>3348</td>\n",
              "      <td>3352.866667</td>\n",
              "      <td>0.998549</td>\n",
              "    </tr>\n",
              "    <tr>\n",
              "      <th>119</th>\n",
              "      <td>2016-04-30</td>\n",
              "      <td>0</td>\n",
              "      <td>64.0</td>\n",
              "      <td>48.0</td>\n",
              "      <td>0.00</td>\n",
              "      <td>56.00</td>\n",
              "      <td>Queensboro Bridge</td>\n",
              "      <td>3606</td>\n",
              "      <td>3352.866667</td>\n",
              "      <td>1.075498</td>\n",
              "    </tr>\n",
              "  </tbody>\n",
              "</table>\n",
              "<p>120 rows × 10 columns</p>\n",
              "</div>\n",
              "      <button class=\"colab-df-convert\" onclick=\"convertToInteractive('df-f4779231-14a9-4608-8e3c-23bb964bc046')\"\n",
              "              title=\"Convert this dataframe to an interactive table.\"\n",
              "              style=\"display:none;\">\n",
              "        \n",
              "  <svg xmlns=\"http://www.w3.org/2000/svg\" height=\"24px\"viewBox=\"0 0 24 24\"\n",
              "       width=\"24px\">\n",
              "    <path d=\"M0 0h24v24H0V0z\" fill=\"none\"/>\n",
              "    <path d=\"M18.56 5.44l.94 2.06.94-2.06 2.06-.94-2.06-.94-.94-2.06-.94 2.06-2.06.94zm-11 1L8.5 8.5l.94-2.06 2.06-.94-2.06-.94L8.5 2.5l-.94 2.06-2.06.94zm10 10l.94 2.06.94-2.06 2.06-.94-2.06-.94-.94-2.06-.94 2.06-2.06.94z\"/><path d=\"M17.41 7.96l-1.37-1.37c-.4-.4-.92-.59-1.43-.59-.52 0-1.04.2-1.43.59L10.3 9.45l-7.72 7.72c-.78.78-.78 2.05 0 2.83L4 21.41c.39.39.9.59 1.41.59.51 0 1.02-.2 1.41-.59l7.78-7.78 2.81-2.81c.8-.78.8-2.07 0-2.86zM5.41 20L4 18.59l7.72-7.72 1.47 1.35L5.41 20z\"/>\n",
              "  </svg>\n",
              "      </button>\n",
              "      \n",
              "  <style>\n",
              "    .colab-df-container {\n",
              "      display:flex;\n",
              "      flex-wrap:wrap;\n",
              "      gap: 12px;\n",
              "    }\n",
              "\n",
              "    .colab-df-convert {\n",
              "      background-color: #E8F0FE;\n",
              "      border: none;\n",
              "      border-radius: 50%;\n",
              "      cursor: pointer;\n",
              "      display: none;\n",
              "      fill: #1967D2;\n",
              "      height: 32px;\n",
              "      padding: 0 0 0 0;\n",
              "      width: 32px;\n",
              "    }\n",
              "\n",
              "    .colab-df-convert:hover {\n",
              "      background-color: #E2EBFA;\n",
              "      box-shadow: 0px 1px 2px rgba(60, 64, 67, 0.3), 0px 1px 3px 1px rgba(60, 64, 67, 0.15);\n",
              "      fill: #174EA6;\n",
              "    }\n",
              "\n",
              "    [theme=dark] .colab-df-convert {\n",
              "      background-color: #3B4455;\n",
              "      fill: #D2E3FC;\n",
              "    }\n",
              "\n",
              "    [theme=dark] .colab-df-convert:hover {\n",
              "      background-color: #434B5C;\n",
              "      box-shadow: 0px 1px 3px 1px rgba(0, 0, 0, 0.15);\n",
              "      filter: drop-shadow(0px 1px 2px rgba(0, 0, 0, 0.3));\n",
              "      fill: #FFFFFF;\n",
              "    }\n",
              "  </style>\n",
              "\n",
              "      <script>\n",
              "        const buttonEl =\n",
              "          document.querySelector('#df-f4779231-14a9-4608-8e3c-23bb964bc046 button.colab-df-convert');\n",
              "        buttonEl.style.display =\n",
              "          google.colab.kernel.accessAllowed ? 'block' : 'none';\n",
              "\n",
              "        async function convertToInteractive(key) {\n",
              "          const element = document.querySelector('#df-f4779231-14a9-4608-8e3c-23bb964bc046');\n",
              "          const dataTable =\n",
              "            await google.colab.kernel.invokeFunction('convertToInteractive',\n",
              "                                                     [key], {});\n",
              "          if (!dataTable) return;\n",
              "\n",
              "          const docLinkHtml = 'Like what you see? Visit the ' +\n",
              "            '<a target=\"_blank\" href=https://colab.research.google.com/notebooks/data_table.ipynb>data table notebook</a>'\n",
              "            + ' to learn more about interactive tables.';\n",
              "          element.innerHTML = '';\n",
              "          dataTable['output_type'] = 'display_data';\n",
              "          await google.colab.output.renderOutput(dataTable, element);\n",
              "          const docLink = document.createElement('div');\n",
              "          docLink.innerHTML = docLinkHtml;\n",
              "          element.appendChild(docLink);\n",
              "        }\n",
              "      </script>\n",
              "    </div>\n",
              "  </div>\n",
              "  "
            ]
          },
          "metadata": {},
          "execution_count": 715
        }
      ]
    },
    {
      "cell_type": "code",
      "source": [
        "from sklearn.model_selection import train_test_split, KFold, cross_val_score\n",
        "from sklearn.linear_model import LinearRegression\n",
        "from sklearn.metrics import mean_squared_error, mean_absolute_error\n",
        "from sklearn.preprocessing import PolynomialFeatures, StandardScaler\n",
        "from sklearn.tree import DecisionTreeRegressor"
      ],
      "metadata": {
        "id": "7j4ec02xK54N"
      },
      "execution_count": null,
      "outputs": []
    },
    {
      "cell_type": "code",
      "source": [
        "# scaler = StandardScaler()\n",
        "# scaler.fit(X_train)\n",
        "# X_train_sc = scaler.transform(X_train)"
      ],
      "metadata": {
        "id": "8R9Jlg0-xXME"
      },
      "execution_count": null,
      "outputs": []
    },
    {
      "cell_type": "code",
      "source": [
        "mosty = [\"Brooklyn Bridge\",\"Manhattan Bridge\",\"Williamsburg Bridge\",\"Queensboro Bridge\"]\n",
        "df_mosty = []\n",
        "\n",
        "for x in mosty:\n",
        "  df_mosty.append(melted_df[melted_df[\"variable\"]==x])"
      ],
      "metadata": {
        "id": "xqz2Eke-bSrY"
      },
      "execution_count": null,
      "outputs": []
    },
    {
      "cell_type": "code",
      "source": [
        "X=[]\n",
        "y=[]\n",
        "\n",
        "for x in range(len(df_mosty)):\n",
        "  X.append(df_mosty[x][[\"High Temp (°F)\",\"Precipitation_cat\"]])\n",
        "  y.append(df_mosty[x][[\"value_x\"]])"
      ],
      "metadata": {
        "id": "axc5GQSJcPhg"
      },
      "execution_count": null,
      "outputs": []
    },
    {
      "cell_type": "code",
      "source": [
        "X_train=[]\n",
        "X_test=[]\n",
        "y_train=[]\n",
        "y_test=[]\n",
        "\n",
        "for x in range(len(df_mosty)):\n",
        "  X_train.append(train_test_split(X[x].values, test_size=0.2, random_state=123))\n",
        "  X_test.append(train_test_split(X[x].values, test_size=0.2, random_state=123))\n",
        "  y_train.append(train_test_split(y[x].values, test_size=0.2, random_state=123))\n",
        "  y_test.append(train_test_split(y[x].values, test_size=0.2, random_state=123))"
      ],
      "metadata": {
        "id": "YvEgsFNWc0Bg"
      },
      "execution_count": null,
      "outputs": []
    },
    {
      "cell_type": "code",
      "source": [
        "# for x in range(len(df_mosty)):\n",
        "#   X_train[x]=StandardScaler().fit(X_train[x]).transform(X_train[x])\n",
        "\n",
        "# scaler = StandardScaler()\n",
        "# scaler.fit(X_train)\n",
        "# X_train_sc = scaler.transform(X_train)"
      ],
      "metadata": {
        "id": "wHXvWoL_xpEE"
      },
      "execution_count": null,
      "outputs": []
    },
    {
      "cell_type": "code",
      "source": [
        "model=[]\n",
        "\n",
        "for x in range(len(df_mosty)):\n",
        "  temp = LinearRegression().fit(X_train[x][0], y_train[x][0])\n",
        "  model.append(temp)\n"
      ],
      "metadata": {
        "id": "Fr87CYLYc8HI"
      },
      "execution_count": null,
      "outputs": []
    },
    {
      "cell_type": "code",
      "source": [
        "y_est = []\n",
        "\n",
        "for x in range(len(df_mosty)):\n",
        "  y_est.append(model[x].predict(X_test[x][0]))\n"
      ],
      "metadata": {
        "id": "vRoOHbdueZPJ"
      },
      "execution_count": null,
      "outputs": []
    },
    {
      "cell_type": "code",
      "source": [
        "# bkln = pd.concat([X[0],y[0]],axis=1)\n",
        "# bkln[\"y_est\"] = model[0].predict(X[0])\n",
        "# bkln"
      ],
      "metadata": {
        "id": "FWC4j2y8l9U6"
      },
      "execution_count": null,
      "outputs": []
    },
    {
      "cell_type": "code",
      "source": [
        "errors=[]\n",
        "\n",
        "for x in range(len(df_mosty)):\n",
        "  errors.append(mean_absolute_error(y_test[x][0],y_est[x]))"
      ],
      "metadata": {
        "id": "S6iGstV0gIUJ"
      },
      "execution_count": null,
      "outputs": []
    },
    {
      "cell_type": "code",
      "source": [
        "errors"
      ],
      "metadata": {
        "colab": {
          "base_uri": "https://localhost:8080/"
        },
        "id": "ee_Pn8Fjm-Ja",
        "outputId": "3edf07df-b77a-4bed-9eb0-9ad98bdf4ade"
      },
      "execution_count": null,
      "outputs": [
        {
          "output_type": "execute_result",
          "data": {
            "text/plain": [
              "[345.8530831588235, 748.1162040042046, 725.5638437274974, 424.5978316770841]"
            ]
          },
          "metadata": {},
          "execution_count": 726
        }
      ]
    },
    {
      "cell_type": "code",
      "source": [
        "errors_cv_lm=[]\n",
        "\n",
        "for x in range(len(df_mosty)):\n",
        "\n",
        "  kfold = KFold(n_splits=10, random_state=21, shuffle=True)\n",
        "  cv_results = cross_val_score(LinearRegression(),\n",
        "                             X_train[x][0], y_train[x][0],\n",
        "                             cv=kfold,\n",
        "                             scoring='neg_mean_absolute_error')\n",
        "  \n",
        "  errors_cv_lm.append(cv_results.mean())\n",
        "\n",
        "\n",
        "\n",
        "#print('LinearRegressor cv score: ', cv_results.mean(), cv_results.std())"
      ],
      "metadata": {
        "id": "j7DO_x77bNph"
      },
      "execution_count": null,
      "outputs": []
    },
    {
      "cell_type": "code",
      "source": [
        "errors_cv_lm"
      ],
      "metadata": {
        "colab": {
          "base_uri": "https://localhost:8080/"
        },
        "id": "FEfKAYC_knra",
        "outputId": "908c36fe-7f65-49d2-d5c0-95e8259f3077"
      },
      "execution_count": null,
      "outputs": [
        {
          "output_type": "execute_result",
          "data": {
            "text/plain": [
              "[-389.0323907722632, -842.16691153434, -819.9757795068726, -478.3468303657696]"
            ]
          },
          "metadata": {},
          "execution_count": 728
        }
      ]
    },
    {
      "cell_type": "code",
      "source": [
        "errors_cv_tree=[]\n",
        "\n",
        "\n",
        "for x in range(len(df_mosty)):\n",
        "\n",
        "  kfold = KFold(n_splits=10, random_state=21, shuffle=True)\n",
        "  cv_results = cross_val_score(DecisionTreeRegressor(),\n",
        "                             X_train[x][0], y_train[x][0],\n",
        "                             cv=kfold,\n",
        "                             scoring='neg_mean_absolute_error')\n",
        "  \n",
        "  errors_cv_tree.append(cv_results.mean())\n",
        "\n"
      ],
      "metadata": {
        "id": "E30Tfli9bN7Y"
      },
      "execution_count": null,
      "outputs": []
    },
    {
      "cell_type": "code",
      "source": [
        "errors_cv_tree"
      ],
      "metadata": {
        "colab": {
          "base_uri": "https://localhost:8080/"
        },
        "id": "Y2BFxc6RbORH",
        "outputId": "8d72802e-5aaf-4ab9-ab53-b814524a14e8"
      },
      "execution_count": null,
      "outputs": [
        {
          "output_type": "execute_result",
          "data": {
            "text/plain": [
              "[-448.85555555555555, -980.9833333333333, -983.95, -546.1333333333333]"
            ]
          },
          "metadata": {},
          "execution_count": 730
        }
      ]
    },
    {
      "cell_type": "code",
      "source": [
        "for x in range(len(model)):\n",
        "  print(\"na moscie\", mosty[x], model[x].predict(np.array([[df_mosty[x][\"High Temp (°F)\"].max(),0],\n",
        "                                                          [df_mosty[x][\"High Temp (°F)\"].max(),1],\n",
        "                                                         [df_mosty[x][\"Low Temp (°F)\"].min(),0],\n",
        "                                                         [df_mosty[x][\"Low Temp (°F)\"].min(),1]])))"
      ],
      "metadata": {
        "colab": {
          "base_uri": "https://localhost:8080/"
        },
        "id": "kMuj1FHmST3P",
        "outputId": "f14ce293-8ee1-414e-87de-c9c24f6496c6"
      },
      "execution_count": null,
      "outputs": [
        {
          "output_type": "stream",
          "name": "stdout",
          "text": [
            "na moscie Brooklyn Bridge [[3682.66780834]\n",
            " [2625.06517056]\n",
            " [ 833.78283386]\n",
            " [-223.81980392]]\n",
            "na moscie Manhattan Bridge [[6482.97327857]\n",
            " [4613.9325622 ]\n",
            " [1811.73480818]\n",
            " [ -57.30590819]]\n",
            "na moscie Williamsburg Bridge [[7564.37206477]\n",
            " [5781.43011394]\n",
            " [2030.56173584]\n",
            " [ 247.61978501]]\n",
            "na moscie Queensboro Bridge [[4973.71809031]\n",
            " [3762.10038685]\n",
            " [1786.55347393]\n",
            " [ 574.93577047]]\n"
          ]
        }
      ]
    },
    {
      "cell_type": "code",
      "source": [
        "print(model[0].coef_)\n",
        "model[0].intercept_"
      ],
      "metadata": {
        "colab": {
          "base_uri": "https://localhost:8080/"
        },
        "id": "PVoSdaqMt5X0",
        "outputId": "352f2e3d-3024-44ec-d9a2-b72af764ab05"
      },
      "execution_count": null,
      "outputs": [
        {
          "output_type": "stream",
          "name": "stdout",
          "text": [
            "[[   51.89225819 -1057.60263778]]\n"
          ]
        },
        {
          "output_type": "execute_result",
          "data": {
            "text/plain": [
              "array([-520.60510483])"
            ]
          },
          "metadata": {},
          "execution_count": 732
        }
      ]
    },
    {
      "cell_type": "code",
      "source": [
        "# cv_results = cross_val_score(DecisionTreeRegressor(),\n",
        "#                              X_train, y_train,\n",
        "#                              cv=kfold,\n",
        "#                              scoring='neg_mean_absolute_error')\n",
        "# print('DecisionTreeRegressor cv score: ', cv_results.mean(), cv_results.std())"
      ],
      "metadata": {
        "id": "zyvTDVPwSowN"
      },
      "execution_count": null,
      "outputs": []
    },
    {
      "cell_type": "code",
      "source": [
        "# poly = PolynomialFeatures(degree=3)\n",
        "# X_poly = poly.fit_transform(X)\n",
        "# model = LinearRegression()\n",
        "# model.fit(X_poly, y)"
      ],
      "metadata": {
        "id": "XdCWhWQDTD-M"
      },
      "execution_count": null,
      "outputs": []
    },
    {
      "cell_type": "code",
      "source": [
        ""
      ],
      "metadata": {
        "id": "GCkr6bPxTELW"
      },
      "execution_count": null,
      "outputs": []
    },
    {
      "cell_type": "code",
      "source": [
        "# model = LinearRegression().fit(X_train, y_train)\n",
        "\n",
        "\n",
        "# print(model.intercept_)\n",
        "# print(model.coef_)"
      ],
      "metadata": {
        "id": "u_5JvUzKL8FG"
      },
      "execution_count": null,
      "outputs": []
    },
    {
      "cell_type": "code",
      "source": [
        ""
      ],
      "metadata": {
        "id": "uqTtbJfRUpU_"
      },
      "execution_count": null,
      "outputs": []
    },
    {
      "cell_type": "code",
      "source": [
        "y_est = model.predict(X_test)\n",
        "\n",
        "print(mean_absolute_error(y_test, y_est))\n",
        "print(mean_absolute_error(y_test, np.repeat(np.mean(y_test),len(y_est))))"
      ],
      "metadata": {
        "colab": {
          "base_uri": "https://localhost:8080/",
          "height": 226
        },
        "id": "BHqIyM1rK5de",
        "outputId": "8cea957c-3825-44b0-a21b-9d48f70ad840"
      },
      "execution_count": null,
      "outputs": [
        {
          "output_type": "error",
          "ename": "AttributeError",
          "evalue": "ignored",
          "traceback": [
            "\u001b[0;31m---------------------------------------------------------------------------\u001b[0m",
            "\u001b[0;31mAttributeError\u001b[0m                            Traceback (most recent call last)",
            "\u001b[0;32m<ipython-input-736-99fcd2dafa55>\u001b[0m in \u001b[0;36m<module>\u001b[0;34m()\u001b[0m\n\u001b[0;32m----> 1\u001b[0;31m \u001b[0my_est\u001b[0m \u001b[0;34m=\u001b[0m \u001b[0mmodel\u001b[0m\u001b[0;34m.\u001b[0m\u001b[0mpredict\u001b[0m\u001b[0;34m(\u001b[0m\u001b[0mX_test\u001b[0m\u001b[0;34m)\u001b[0m\u001b[0;34m\u001b[0m\u001b[0;34m\u001b[0m\u001b[0m\n\u001b[0m\u001b[1;32m      2\u001b[0m \u001b[0;34m\u001b[0m\u001b[0m\n\u001b[1;32m      3\u001b[0m \u001b[0mprint\u001b[0m\u001b[0;34m(\u001b[0m\u001b[0mmean_absolute_error\u001b[0m\u001b[0;34m(\u001b[0m\u001b[0my_test\u001b[0m\u001b[0;34m,\u001b[0m \u001b[0my_est\u001b[0m\u001b[0;34m)\u001b[0m\u001b[0;34m)\u001b[0m\u001b[0;34m\u001b[0m\u001b[0;34m\u001b[0m\u001b[0m\n\u001b[1;32m      4\u001b[0m \u001b[0mprint\u001b[0m\u001b[0;34m(\u001b[0m\u001b[0mmean_absolute_error\u001b[0m\u001b[0;34m(\u001b[0m\u001b[0my_test\u001b[0m\u001b[0;34m,\u001b[0m \u001b[0mnp\u001b[0m\u001b[0;34m.\u001b[0m\u001b[0mrepeat\u001b[0m\u001b[0;34m(\u001b[0m\u001b[0mnp\u001b[0m\u001b[0;34m.\u001b[0m\u001b[0mmean\u001b[0m\u001b[0;34m(\u001b[0m\u001b[0my_test\u001b[0m\u001b[0;34m)\u001b[0m\u001b[0;34m,\u001b[0m\u001b[0mlen\u001b[0m\u001b[0;34m(\u001b[0m\u001b[0my_est\u001b[0m\u001b[0;34m)\u001b[0m\u001b[0;34m)\u001b[0m\u001b[0;34m)\u001b[0m\u001b[0;34m)\u001b[0m\u001b[0;34m\u001b[0m\u001b[0;34m\u001b[0m\u001b[0m\n",
            "\u001b[0;31mAttributeError\u001b[0m: 'list' object has no attribute 'predict'"
          ]
        }
      ]
    },
    {
      "cell_type": "code",
      "source": [
        "# data[\"avg_total\"] = data[\"Total\"].mean()\n",
        "# data[\"nowy_y\"] = data[\"Total\"] / data[\"avg_total\"]\n",
        "\n",
        "\n",
        "# X = data[[\"High Temp (°F)\",\"Precipitation_cat\"]]\n",
        "# y = data[[\"nowy_y\"]]\n",
        "\n",
        "# X_train, X_test, y_train, y_test = train_test_split(X,y, test_size=0.2, random_state=123)\n",
        "\n",
        "\n",
        "# model = LinearRegression().fit(X_train, y_train)\n",
        "\n",
        "\n",
        "# print(model.intercept_)\n",
        "# print(model.coef_)\n",
        "\n",
        "\n",
        "# y_est = model.predict(X_test)\n",
        "\n",
        "# print(mean_absolute_error(y_test, y_est))\n",
        "# print(mean_absolute_error(y_test, np.repeat(np.mean(y_test),len(y_est))))"
      ],
      "metadata": {
        "id": "zJNuKgBgNmZ2"
      },
      "execution_count": null,
      "outputs": []
    },
    {
      "cell_type": "code",
      "source": [
        "data"
      ],
      "metadata": {
        "id": "uSwEz_n2R80n"
      },
      "execution_count": null,
      "outputs": []
    }
  ]
}